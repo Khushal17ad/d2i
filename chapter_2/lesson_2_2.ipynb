{
  "nbformat": 4,
  "nbformat_minor": 0,
  "metadata": {
    "colab": {
      "name": "lesson_2_2.ipynb",
      "provenance": [],
      "collapsed_sections": [],
      "toc_visible": true,
      "authorship_tag": "ABX9TyM/JTMssiIbiPFHX4oQjbNL",
      "include_colab_link": true
    },
    "kernelspec": {
      "name": "python3",
      "display_name": "Python 3"
    }
  },
  "cells": [
    {
      "cell_type": "markdown",
      "metadata": {
        "id": "view-in-github",
        "colab_type": "text"
      },
      "source": [
        "<a href=\"https://colab.research.google.com/github/Khushal17ad/d2i/blob/master/lesson_2_2.ipynb\" target=\"_parent\"><img src=\"https://colab.research.google.com/assets/colab-badge.svg\" alt=\"Open In Colab\"/></a>"
      ]
    },
    {
      "cell_type": "code",
      "metadata": {
        "id": "WCBUdKfG1lcT",
        "outputId": "86d879ab-7b09-441b-e5dc-247486889f0f",
        "colab": {
          "base_uri": "https://localhost:8080/",
          "height": 155
        }
      },
      "source": [
        "!pip install gdown"
      ],
      "execution_count": 1,
      "outputs": [
        {
          "output_type": "stream",
          "text": [
            "Requirement already satisfied: gdown in /usr/local/lib/python3.6/dist-packages (3.6.4)\n",
            "Requirement already satisfied: tqdm in /usr/local/lib/python3.6/dist-packages (from gdown) (4.41.1)\n",
            "Requirement already satisfied: six in /usr/local/lib/python3.6/dist-packages (from gdown) (1.15.0)\n",
            "Requirement already satisfied: requests in /usr/local/lib/python3.6/dist-packages (from gdown) (2.23.0)\n",
            "Requirement already satisfied: certifi>=2017.4.17 in /usr/local/lib/python3.6/dist-packages (from requests->gdown) (2020.6.20)\n",
            "Requirement already satisfied: urllib3!=1.25.0,!=1.25.1,<1.26,>=1.21.1 in /usr/local/lib/python3.6/dist-packages (from requests->gdown) (1.24.3)\n",
            "Requirement already satisfied: idna<3,>=2.5 in /usr/local/lib/python3.6/dist-packages (from requests->gdown) (2.10)\n",
            "Requirement already satisfied: chardet<4,>=3.0.2 in /usr/local/lib/python3.6/dist-packages (from requests->gdown) (3.0.4)\n"
          ],
          "name": "stdout"
        }
      ]
    },
    {
      "cell_type": "code",
      "metadata": {
        "id": "0kvYKUgv1pCX",
        "outputId": "cbcd2e6d-0466-4c60-b2e2-c42a34d0d442",
        "colab": {
          "base_uri": "https://localhost:8080/",
          "height": 86
        }
      },
      "source": [
        "! gdown -O log_data.csv https://drive.google.com/uc?id=1YVq71iUjSjqyqJtkmSRbC9NLMCrx0478"
      ],
      "execution_count": 2,
      "outputs": [
        {
          "output_type": "stream",
          "text": [
            "Downloading...\n",
            "From: https://drive.google.com/uc?id=1YVq71iUjSjqyqJtkmSRbC9NLMCrx0478\n",
            "To: /content/log_data.csv\n",
            "280MB [00:03, 89.8MB/s]\n"
          ],
          "name": "stdout"
        }
      ]
    },
    {
      "cell_type": "code",
      "metadata": {
        "id": "-SEvVK7H1s1_"
      },
      "source": [
        "#import pandas\n",
        "import pandas as pd"
      ],
      "execution_count": 2,
      "outputs": []
    },
    {
      "cell_type": "markdown",
      "metadata": {
        "id": "5HAx2UWiAssW"
      },
      "source": [
        "### Importing the Data\n",
        "The data is used from the following competition:\n",
        "https://xeek.ai/challenges/force-well-logs/overview"
      ]
    },
    {
      "cell_type": "code",
      "metadata": {
        "id": "9Tiddfjv0O1l",
        "outputId": "5dadf9cb-ffb1-46e1-bb50-679655a02748",
        "colab": {
          "base_uri": "https://localhost:8080/",
          "height": 155
        }
      },
      "source": [
        "data = pd.read_csv('log_data.csv',sep = ';')\n",
        "data =  data.iloc[11000: 13000,:]\n",
        "print(data.head())"
      ],
      "execution_count": 39,
      "outputs": [
        {
          "output_type": "stream",
          "text": [
            "          WELL  ...  FORCE_2020_LITHOFACIES_CONFIDENCE\n",
            "11000  15/9-13  ...                                1.0\n",
            "11001  15/9-13  ...                                1.0\n",
            "11002  15/9-13  ...                                1.0\n",
            "11003  15/9-13  ...                                1.0\n",
            "11004  15/9-13  ...                                1.0\n",
            "\n",
            "[5 rows x 29 columns]\n"
          ],
          "name": "stdout"
        }
      ]
    },
    {
      "cell_type": "markdown",
      "metadata": {
        "id": "q0AmQlrF13X_"
      },
      "source": [
        "### Handling Missing Data"
      ]
    },
    {
      "cell_type": "code",
      "metadata": {
        "id": "wzEUx8hW1vIw",
        "outputId": "a74229d9-ca43-4801-92d1-e9991697221a",
        "colab": {
          "base_uri": "https://localhost:8080/",
          "height": 259
        }
      },
      "source": [
        "inputs, outputs = data[['DEPTH_MD', 'FORMATION']], data['FORCE_2020_LITHOFACIES_LITHOLOGY']\n",
        "inputs = inputs.fillna(inputs.mean())\n",
        "print(inputs)"
      ],
      "execution_count": 40,
      "outputs": [
        {
          "output_type": "stream",
          "text": [
            "       DEPTH_MD   FORMATION\n",
            "11000  2167.136  Utsira Fm.\n",
            "11001  2167.288  Utsira Fm.\n",
            "11002  2167.440  Utsira Fm.\n",
            "11003  2167.592  Utsira Fm.\n",
            "11004  2167.744  Utsira Fm.\n",
            "...         ...         ...\n",
            "12995  2470.376     Tor Fm.\n",
            "12996  2470.528     Tor Fm.\n",
            "12997  2470.680     Tor Fm.\n",
            "12998  2470.832     Tor Fm.\n",
            "12999  2470.984     Tor Fm.\n",
            "\n",
            "[2000 rows x 2 columns]\n"
          ],
          "name": "stdout"
        }
      ]
    },
    {
      "cell_type": "code",
      "metadata": {
        "id": "zWbOSmnD_WaX",
        "outputId": "13d8dc3a-2e6d-4f99-868c-a969b096fef1",
        "colab": {
          "base_uri": "https://localhost:8080/",
          "height": 259
        }
      },
      "source": [
        "inputs = pd.get_dummies(inputs, dummy_na=False)\n",
        "print(inputs)"
      ],
      "execution_count": 41,
      "outputs": [
        {
          "output_type": "stream",
          "text": [
            "       DEPTH_MD  FORMATION_Balder Fm.  ...  FORMATION_Tor Fm.  FORMATION_Utsira Fm.\n",
            "11000  2167.136                     0  ...                  0                     1\n",
            "11001  2167.288                     0  ...                  0                     1\n",
            "11002  2167.440                     0  ...                  0                     1\n",
            "11003  2167.592                     0  ...                  0                     1\n",
            "11004  2167.744                     0  ...                  0                     1\n",
            "...         ...                   ...  ...                ...                   ...\n",
            "12995  2470.376                     0  ...                  1                     0\n",
            "12996  2470.528                     0  ...                  1                     0\n",
            "12997  2470.680                     0  ...                  1                     0\n",
            "12998  2470.832                     0  ...                  1                     0\n",
            "12999  2470.984                     0  ...                  1                     0\n",
            "\n",
            "[2000 rows x 7 columns]\n"
          ],
          "name": "stdout"
        }
      ]
    },
    {
      "cell_type": "markdown",
      "metadata": {
        "id": "yx1QXbaQA9e0"
      },
      "source": [
        "### Conversion to the Tensor Fromat"
      ]
    },
    {
      "cell_type": "code",
      "metadata": {
        "id": "xF-Q97-I2Acd",
        "outputId": "c30c34e3-6aa5-4803-d95a-3a203bbeede2",
        "colab": {
          "base_uri": "https://localhost:8080/",
          "height": 259
        }
      },
      "source": [
        "import torch\n",
        "\n",
        "X, y = torch.tensor(inputs.values), torch.tensor(outputs.values)\n",
        "X, y"
      ],
      "execution_count": 42,
      "outputs": [
        {
          "output_type": "execute_result",
          "data": {
            "text/plain": [
              "(tensor([[2.1671e+03, 0.0000e+00, 0.0000e+00,  ..., 0.0000e+00, 0.0000e+00,\n",
              "          1.0000e+00],\n",
              "         [2.1673e+03, 0.0000e+00, 0.0000e+00,  ..., 0.0000e+00, 0.0000e+00,\n",
              "          1.0000e+00],\n",
              "         [2.1674e+03, 0.0000e+00, 0.0000e+00,  ..., 0.0000e+00, 0.0000e+00,\n",
              "          1.0000e+00],\n",
              "         ...,\n",
              "         [2.4707e+03, 0.0000e+00, 0.0000e+00,  ..., 0.0000e+00, 1.0000e+00,\n",
              "          0.0000e+00],\n",
              "         [2.4708e+03, 0.0000e+00, 0.0000e+00,  ..., 0.0000e+00, 1.0000e+00,\n",
              "          0.0000e+00],\n",
              "         [2.4710e+03, 0.0000e+00, 0.0000e+00,  ..., 0.0000e+00, 1.0000e+00,\n",
              "          0.0000e+00]], dtype=torch.float64),\n",
              " tensor([65000, 65000, 65000,  ..., 70000, 70000, 70000]))"
            ]
          },
          "metadata": {
            "tags": []
          },
          "execution_count": 42
        }
      ]
    }
  ]
}
